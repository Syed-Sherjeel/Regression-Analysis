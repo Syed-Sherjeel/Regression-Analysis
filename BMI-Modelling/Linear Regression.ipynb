{
 "cells": [
  {
   "cell_type": "markdown",
   "metadata": {},
   "source": [
    "# Introduction\n",
    "   In this project our sole aim is to model relationship between Body mass index(BMI) and Life expectancy of data from various countries and its source is GapMinder.For this purpose we will use  a statistic technique known as linear Regression.Body Mass index or in short BMI is a value derived from the mass and height of a person. The BMI is defined as the body mass divided by the square of the body height, and is universally expressed in units of kg/m², resulting from mass in kilograms and height in metres.BMI has major impact on   life expectancy as it impacts health of human being in term of obesity and underweight etc.\n",
    "         \n",
    "   For most adults, an ideal BMI is in the 18.5 to 24.9 range. For children and young people aged 2 to 18,  the BMI calculation takes into account age and gender as well as height and weight. If your BMI is: below 18.5 – you're in the underweight range.\n",
    "# Linear Regression"
   ]
  },
  {
   "cell_type": "markdown",
   "metadata": {},
   "source": [
    "   Linear regression is a statistical method of modelling relationship between an independent variable(s) and dependent variable.  \n",
    "    __In statistic__,linear regression is a technique used to model relation between scalar response and one or more (depending upon situation) explanatory variable.Essentially linear regression outputs a continous values depending upon values of one or more parameters.\n",
    "## Example:\n",
    "   relation between,   \n",
    "   i-fair of taxi with respect to time  \n",
    "   ii-price of house with respect to certain parameters of house"
   ]
  },
  {
   "cell_type": "markdown",
   "metadata": {},
   "source": [
    "# Background\n",
    "Sir Francis Galton, FRS was an English Victorian era statistician, polymath, sociologist, psychologist,anthropologist, eugenicist, tropical explorer, geographer, inventor, meteorologist, proto-geneticist, and psychometrician. He was knighted in 1909.\n",
    "\n",
    "Galton produced over 340 papers and books. He also created the statistical concept of correlation and widely promoted regression toward the mean. He was the first to apply statistical methods to the study of human differences and inheritance of intelligence.\n",
    " [However there exist a dispute details of which can be found here](http://econ.ucsb.edu/~doug/240a/The%20Discovery%20of%20Statistical%20Regression.htm)"
   ]
  },
  {
   "cell_type": "markdown",
   "metadata": {},
   "source": [
    "<img src=\"https://i.imgur.com/vB3UAiH.jpg\" alt=\"Drawing\" style=\"width: 300px;\"/>"
   ]
  },
  {
   "cell_type": "markdown",
   "metadata": {},
   "source": [
    "In linear regression our main goal is to minimize this root mean square error.For this purpose in our studies we use a method called gradient descent.In gradient descent we tend compare our predicted value with actual values according to dataset and take step in a direction with learning rate alpha.\n",
    "<img src=\"https://iq.opengenus.org/content/images/2018/08/d1-1.png\" alt=\"Drawing\" style=\"width: 370px;\"/>\n"
   ]
  },
  {
   "cell_type": "markdown",
   "metadata": {},
   "source": [
    "where $theta o$ is y intercept that is it is the point where our randomly initialized line intecept y axis where as $theta 1$ is slop is the value that determines wether our line is going upward or downward or straight.Essentially, it determines the direction of our line or randomly initialized hypothesis.And our main goal is to minimize above cost function which is simply the difference between our predicted value and actual value.We want to find the value of $theta o$ and $theta 1$ which make the value of this function minimum"
   ]
  },
  {
   "cell_type": "markdown",
   "metadata": {},
   "source": [
    "<img src=\"https://miro.medium.com/max/900/1*G3evFxIAlDchOx5Wl7bV5g.png\" alt=\"Drawing\" style=\"width: 350px;\"/>\n"
   ]
  },
  {
   "cell_type": "markdown",
   "metadata": {},
   "source": [
    "Below is the pictorial representation of gradient descent algorithm in action.This learning rate alpha is significant \n",
    "If our learning rate $ alpha $ is too large we may miss the global minimum however if it is too small we might suffer from computationally expensive slow rate of convergence. \n",
    "Good practice is to start with learning rate from 0.005 then 0.01,0.03 and so on."
   ]
  },
  {
   "cell_type": "markdown",
   "metadata": {},
   "source": [
    "<img src=\"https://miro.medium.com/max/3916/1*HrFZV7pKPcc5dzLaWvngtQ.png\" alt=\"Drawing\" style=\"width: 350px;\"/>\n"
   ]
  },
  {
   "cell_type": "markdown",
   "metadata": {},
   "source": [
    "### Libraries that we will be needing are following,  \n",
    "i-scikitlearn(sklearn)  \n",
    "ii-pandas"
   ]
  },
  {
   "cell_type": "markdown",
   "metadata": {},
   "source": [
    "### Pandas \n",
    "In computer programming, pandas is a software library written for the Python programming language for data manipulation and analysis. In particular, it offers data structures and operations for manipulating numerical tables and time series. It is free software released under the three-clause BSD license."
   ]
  },
  {
   "cell_type": "markdown",
   "metadata": {},
   "source": [
    "### Scikitlearn \n",
    "Scikit-learn is a free software machine learning library for the Python programming language. It features various classification, regression and clustering algorithms including support vector machines.Major advantage of chosing this library is because its rather simple to implement regression using scikitlearn and this module is highly optimized"
   ]
  },
  {
   "cell_type": "code",
   "execution_count": 2,
   "metadata": {},
   "outputs": [],
   "source": [
    "from sklearn.linear_model import LinearRegression\n",
    "import pandas as pd\n"
   ]
  },
  {
   "cell_type": "markdown",
   "metadata": {},
   "source": [
    "# Importing data"
   ]
  },
  {
   "cell_type": "code",
   "execution_count": 3,
   "metadata": {},
   "outputs": [
    {
     "data": {
      "text/html": [
       "<div>\n",
       "<style scoped>\n",
       "    .dataframe tbody tr th:only-of-type {\n",
       "        vertical-align: middle;\n",
       "    }\n",
       "\n",
       "    .dataframe tbody tr th {\n",
       "        vertical-align: top;\n",
       "    }\n",
       "\n",
       "    .dataframe thead th {\n",
       "        text-align: right;\n",
       "    }\n",
       "</style>\n",
       "<table border=\"1\" class=\"dataframe\">\n",
       "  <thead>\n",
       "    <tr style=\"text-align: right;\">\n",
       "      <th></th>\n",
       "      <th>Country</th>\n",
       "      <th>Life expectancy</th>\n",
       "      <th>BMI</th>\n",
       "    </tr>\n",
       "  </thead>\n",
       "  <tbody>\n",
       "    <tr>\n",
       "      <th>0</th>\n",
       "      <td>Afghanistan</td>\n",
       "      <td>52.8</td>\n",
       "      <td>20.62058</td>\n",
       "    </tr>\n",
       "    <tr>\n",
       "      <th>1</th>\n",
       "      <td>Albania</td>\n",
       "      <td>76.8</td>\n",
       "      <td>26.44657</td>\n",
       "    </tr>\n",
       "    <tr>\n",
       "      <th>2</th>\n",
       "      <td>Algeria</td>\n",
       "      <td>75.5</td>\n",
       "      <td>24.59620</td>\n",
       "    </tr>\n",
       "    <tr>\n",
       "      <th>3</th>\n",
       "      <td>Andorra</td>\n",
       "      <td>84.6</td>\n",
       "      <td>27.63048</td>\n",
       "    </tr>\n",
       "    <tr>\n",
       "      <th>4</th>\n",
       "      <td>Angola</td>\n",
       "      <td>56.7</td>\n",
       "      <td>22.25083</td>\n",
       "    </tr>\n",
       "  </tbody>\n",
       "</table>\n",
       "</div>"
      ],
      "text/plain": [
       "       Country  Life expectancy       BMI\n",
       "0  Afghanistan             52.8  20.62058\n",
       "1      Albania             76.8  26.44657\n",
       "2      Algeria             75.5  24.59620\n",
       "3      Andorra             84.6  27.63048\n",
       "4       Angola             56.7  22.25083"
      ]
     },
     "execution_count": 3,
     "metadata": {},
     "output_type": "execute_result"
    }
   ],
   "source": [
    "bmi_data=pd.read_csv('bmi.csv')\n",
    "bmi_data.head()"
   ]
  },
  {
   "cell_type": "markdown",
   "metadata": {},
   "source": [
    "# Preprocessing"
   ]
  },
  {
   "cell_type": "markdown",
   "metadata": {},
   "source": [
    "we will check for all null values and will chose either to drop null values or fill it with backward interpolation of forward interpolation."
   ]
  },
  {
   "cell_type": "code",
   "execution_count": 10,
   "metadata": {},
   "outputs": [
    {
     "data": {
      "text/html": [
       "<div>\n",
       "<style scoped>\n",
       "    .dataframe tbody tr th:only-of-type {\n",
       "        vertical-align: middle;\n",
       "    }\n",
       "\n",
       "    .dataframe tbody tr th {\n",
       "        vertical-align: top;\n",
       "    }\n",
       "\n",
       "    .dataframe thead th {\n",
       "        text-align: right;\n",
       "    }\n",
       "</style>\n",
       "<table border=\"1\" class=\"dataframe\">\n",
       "  <thead>\n",
       "    <tr style=\"text-align: right;\">\n",
       "      <th></th>\n",
       "      <th>Country</th>\n",
       "      <th>Life expectancy</th>\n",
       "      <th>BMI</th>\n",
       "    </tr>\n",
       "  </thead>\n",
       "  <tbody>\n",
       "    <tr>\n",
       "      <th>0</th>\n",
       "      <td>Afghanistan</td>\n",
       "      <td>52.8</td>\n",
       "      <td>20.62058</td>\n",
       "    </tr>\n",
       "    <tr>\n",
       "      <th>1</th>\n",
       "      <td>Albania</td>\n",
       "      <td>76.8</td>\n",
       "      <td>26.44657</td>\n",
       "    </tr>\n",
       "    <tr>\n",
       "      <th>2</th>\n",
       "      <td>Algeria</td>\n",
       "      <td>75.5</td>\n",
       "      <td>24.59620</td>\n",
       "    </tr>\n",
       "    <tr>\n",
       "      <th>3</th>\n",
       "      <td>Andorra</td>\n",
       "      <td>84.6</td>\n",
       "      <td>27.63048</td>\n",
       "    </tr>\n",
       "    <tr>\n",
       "      <th>4</th>\n",
       "      <td>Angola</td>\n",
       "      <td>56.7</td>\n",
       "      <td>22.25083</td>\n",
       "    </tr>\n",
       "    <tr>\n",
       "      <th>...</th>\n",
       "      <td>...</td>\n",
       "      <td>...</td>\n",
       "      <td>...</td>\n",
       "    </tr>\n",
       "    <tr>\n",
       "      <th>158</th>\n",
       "      <td>Vanuatu</td>\n",
       "      <td>63.4</td>\n",
       "      <td>26.78926</td>\n",
       "    </tr>\n",
       "    <tr>\n",
       "      <th>159</th>\n",
       "      <td>West Bank and Gaza</td>\n",
       "      <td>74.1</td>\n",
       "      <td>26.57750</td>\n",
       "    </tr>\n",
       "    <tr>\n",
       "      <th>160</th>\n",
       "      <td>Vietnam</td>\n",
       "      <td>74.1</td>\n",
       "      <td>20.91630</td>\n",
       "    </tr>\n",
       "    <tr>\n",
       "      <th>161</th>\n",
       "      <td>Zambia</td>\n",
       "      <td>51.1</td>\n",
       "      <td>20.68321</td>\n",
       "    </tr>\n",
       "    <tr>\n",
       "      <th>162</th>\n",
       "      <td>Zimbabwe</td>\n",
       "      <td>47.3</td>\n",
       "      <td>22.02660</td>\n",
       "    </tr>\n",
       "  </tbody>\n",
       "</table>\n",
       "<p>163 rows × 3 columns</p>\n",
       "</div>"
      ],
      "text/plain": [
       "                Country  Life expectancy       BMI\n",
       "0           Afghanistan             52.8  20.62058\n",
       "1               Albania             76.8  26.44657\n",
       "2               Algeria             75.5  24.59620\n",
       "3               Andorra             84.6  27.63048\n",
       "4                Angola             56.7  22.25083\n",
       "..                  ...              ...       ...\n",
       "158             Vanuatu             63.4  26.78926\n",
       "159  West Bank and Gaza             74.1  26.57750\n",
       "160             Vietnam             74.1  20.91630\n",
       "161              Zambia             51.1  20.68321\n",
       "162            Zimbabwe             47.3  22.02660\n",
       "\n",
       "[163 rows x 3 columns]"
      ]
     },
     "execution_count": 10,
     "metadata": {},
     "output_type": "execute_result"
    }
   ],
   "source": [
    "#checking null values\n",
    "bmi_data.isnull()\n",
    "#dropping null values\n",
    "bmi_data.dropna()\n",
    "#fill na value with amount equal to value next to it in same column in data set\n",
    "bmi_data.fillna(method='ffill')\n",
    "# fill na values with amount equal to value behind it in same column\n",
    "bmi_data.fillna(method='bfill')\n"
   ]
  },
  {
   "cell_type": "markdown",
   "metadata": {},
   "source": [
    "### Exploratory data analysis\n",
    "Here we will perform some exploratory data analysis to get insight from data."
   ]
  },
  {
   "cell_type": "markdown",
   "metadata": {},
   "source": [
    "Lets check countries which have higher BMI then average BMI in our data set and countries which have lower BMI then average BMI."
   ]
  },
  {
   "cell_type": "code",
   "execution_count": 64,
   "metadata": {},
   "outputs": [],
   "source": [
    "#Greater then average\n",
    "Greater_then_average_BMI=bmi_data[bmi_data['BMI']>bmi_data['BMI'].mean()]\n",
    "#Less then average\n",
    "Lower_then_average_BMI=bmi_data[bmi_data['BMI']<bmi_data['BMI'].mean()]"
   ]
  },
  {
   "cell_type": "markdown",
   "metadata": {},
   "source": [
    "# Visualizing our data"
   ]
  },
  {
   "cell_type": "code",
   "execution_count": 13,
   "metadata": {},
   "outputs": [
    {
     "data": {
      "text/plain": [
       "[<matplotlib.lines.Line2D at 0x7fcc7947c5d0>]"
      ]
     },
     "execution_count": 13,
     "metadata": {},
     "output_type": "execute_result"
    },
    {
     "data": {
      "image/png": "[encoded data removed]",
      "text/plain": [
       "<Figure size 432x288 with 1 Axes>"
      ]
     },
     "metadata": {
      "needs_background": "light"
     },
     "output_type": "display_data"
    }
   ],
   "source": [
    "import matplotlib.pyplot as plt\n",
    "plt.plot(bmi_data[['BMI']],bmi_data[['Life expectancy']],'*')"
   ]
  },
  {
   "cell_type": "markdown",
   "metadata": {},
   "source": [
    "# implementing linear regression to model relation between both data"
   ]
  },
  {
   "cell_type": "code",
   "execution_count": 65,
   "metadata": {},
   "outputs": [
    {
     "data": {
      "text/plain": [
       "LinearRegression(copy_X=True, fit_intercept=True, n_jobs=None, normalize=False)"
      ]
     },
     "execution_count": 65,
     "metadata": {},
     "output_type": "execute_result"
    }
   ],
   "source": [
    "\n",
    "bmi_model=LinearRegression()\n",
    "bmi_model.fit(bmi_data[['BMI']],bmi_data[['Life expectancy']])"
   ]
  },
  {
   "cell_type": "markdown",
   "metadata": {},
   "source": [
    "# Testing our trained model"
   ]
  },
  {
   "cell_type": "code",
   "execution_count": 68,
   "metadata": {},
   "outputs": [
    {
     "data": {
      "text/plain": [
       "array([[60.350377]])"
      ]
     },
     "execution_count": 68,
     "metadata": {},
     "output_type": "execute_result"
    }
   ],
   "source": [
    "bmi_model.predict([[21.0931]])"
   ]
  },
  {
   "cell_type": "markdown",
   "metadata": {},
   "source": [
    "which is quiet close to our value 60.31"
   ]
  },
  {
   "cell_type": "markdown",
   "metadata": {},
   "source": [
    "# Disadvantages"
   ]
  },
  {
   "cell_type": "markdown",
   "metadata": {},
   "source": [
    "Linear regression as indicated by linear,work well when data is linear.Its performace is effected greatly when we \n",
    "try to model a polynomial system with linear regression.For polynomial models,we can use variant of\n",
    "linear regression known as polynomial regression.In polynomial regression,our variables are no longer linear but are mixed of square \n",
    "of variables."
   ]
  },
  {
   "cell_type": "markdown",
   "metadata": {},
   "source": [
    "<img src=\"Nonlineardata.png\" alt=\"Drawing\" style=\"width: 350px;\"/>"
   ]
  },
  {
   "cell_type": "markdown",
   "metadata": {},
   "source": [
    "Linear Regression is very sensitive to outliers.Its performance is effected greatly to outliers and this problem\n",
    "doesnot have solution in linear regression for this we can use other algorithm like random forest.\n",
    "![](\"withoutOutlier.png\")"
   ]
  },
  {
   "cell_type": "markdown",
   "metadata": {},
   "source": [
    "<img src=\"withoutOutlier.png\" alt=\"Drawing\" style=\"width: 350px;\"/>\n",
    " "
   ]
  },
  {
   "cell_type": "markdown",
   "metadata": {},
   "source": [
    "# With Outlier"
   ]
  },
  {
   "cell_type": "markdown",
   "metadata": {},
   "source": [
    "<img src=\"withoutliers.png\" alt=\"Drawing\" style=\"width: 350px;\"/>  \n",
    " "
   ]
  },
  {
   "cell_type": "markdown",
   "metadata": {},
   "source": [
    "# Conclusion"
   ]
  },
  {
   "cell_type": "markdown",
   "metadata": {},
   "source": [
    "Linear regression is a great algorithm when modelling relationship between two or more quantity.It does perform\n",
    "exceptionally well and fast on linear data set.However,its performance is greatly impacted by outliers and non linear data."
   ]
  }
 ],
 "metadata": {
  "kernelspec": {
   "display_name": "Python 3.7.6 64-bit ('anaconda3': virtualenv)",
   "language": "python",
   "name": "python37664bitanaconda3virtualenv4c3da5af2eaa459ca2659bd910e9c5b3"
  },
  "language_info": {
   "codemirror_mode": {
    "name": "ipython",
    "version": 3
   },
   "file_extension": ".py",
   "mimetype": "text/x-python",
   "name": "python",
   "nbconvert_exporter": "python",
   "pygments_lexer": "ipython3",
   "version": "3.7.6"
  }
 },
 "nbformat": 4,
 "nbformat_minor": 4
}
